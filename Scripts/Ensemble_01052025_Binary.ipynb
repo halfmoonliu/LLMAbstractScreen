{
 "cells": [
  {
   "cell_type": "markdown",
   "metadata": {},
   "source": [
    "# Leveraging LLMs for Abstract Screening"
   ]
  },
  {
   "cell_type": "code",
   "execution_count": 1,
   "metadata": {},
   "outputs": [
    {
     "name": "stderr",
     "output_type": "stream",
     "text": [
      "/workspaces/LLMAbstractScreen/.venv/lib/python3.12/site-packages/tqdm/auto.py:21: TqdmWarning: IProgress not found. Please update jupyter and ipywidgets. See https://ipywidgets.readthedocs.io/en/stable/user_install.html\n",
      "  from .autonotebook import tqdm as notebook_tqdm\n"
     ]
    }
   ],
   "source": [
    "import json\n",
    "import numpy as np\n",
    "import pandas as pd\n",
    "import torch\n",
    "from transformers import AutoTokenizer, BertModel\n",
    "\n",
    "from openai import OpenAI\n",
    "import os\n",
    "from dotenv import load_dotenv\n",
    "\n"
   ]
  },
  {
   "cell_type": "code",
   "execution_count": 2,
   "metadata": {},
   "outputs": [],
   "source": [
    "train_10 = pd.read_csv('/workspaces/LLMAbstractScreen/Dataset/12302024/CD008874_train_10_12302024.csv',\n",
    "                        header = 0,\n",
    "                        skiprows = 0)\n",
    "\n",
    "train_20 = pd.read_csv('/workspaces/LLMAbstractScreen/Dataset/12302024/CD008874_train_20_12302024.csv',\n",
    "                        header = 0,\n",
    "                        skiprows = 0)\n",
    "\n",
    "train_40 = pd.read_csv('/workspaces/LLMAbstractScreen/Dataset/12302024/CD008874_train_40_12302024.csv',\n",
    "                        header = 0,\n",
    "                        skiprows = 0)\n",
    "\n",
    "test = pd.read_csv('/workspaces/LLMAbstractScreen/Dataset/01042025/CD008874_test_01042025.csv',\n",
    "                        header = 0,\n",
    "                        skiprows = 0)"
   ]
  },
  {
   "cell_type": "code",
   "execution_count": 3,
   "metadata": {},
   "outputs": [],
   "source": [
    "def GetInput(row):\n",
    "    output = '\"\"\" ### Title '\n",
    "    output += row['title']\n",
    "    output += ' ### Abstract '\n",
    "    output += row['abstract']\n",
    "    output += '\"\"\"'\n",
    "    return output"
   ]
  },
  {
   "cell_type": "code",
   "execution_count": 4,
   "metadata": {},
   "outputs": [],
   "source": [
    "\n",
    "train_10['Input'] = train_10.apply(lambda row: GetInput(row), axis=1)  \n",
    "train_20['Input'] = train_20.apply(lambda row: GetInput(row), axis=1)  \n",
    "train_40['Input'] = train_40.apply(lambda row: GetInput(row), axis=1)  \n",
    "test['Input'] = test.apply(lambda row: GetInput(row), axis=1)  \n"
   ]
  },
  {
   "cell_type": "code",
   "execution_count": 5,
   "metadata": {},
   "outputs": [],
   "source": [
    "# load BERT tokenizer (uncased)\n",
    "transformer_name = \"bert-base-uncased\"\n",
    "tokenizer = AutoTokenizer.from_pretrained(transformer_name)\n",
    "\n",
    "# load pretrained BERT model\n",
    "model = BertModel.from_pretrained(transformer_name)\n",
    "\n",
    "# assign device (cuda if possible)\n",
    "device = torch.device(\"cuda\" if torch.cuda.is_available() else \"cpu\")\n",
    "\n",
    "# load to device\n",
    "model = model.to(device)"
   ]
  },
  {
   "cell_type": "code",
   "execution_count": 6,
   "metadata": {},
   "outputs": [],
   "source": [
    "def getBertCls(text):\n",
    "  '''\n",
    "  this function takes the following input:\n",
    "  text to be represented by the BERT CLS token\n",
    "  and gives the following output:\n",
    "  a numpy array representing the text\n",
    "  '''\n",
    "  tok_text = tokenizer(text[:1500],\n",
    "                       return_tensors='pt').to(device)\n",
    "  mod_output = model(**tok_text,\n",
    "                     output_hidden_states=True)\n",
    "  last_hidden_states = mod_output.hidden_states[-1]\n",
    "  return last_hidden_states[:,0,:].cpu().detach().numpy()[0]"
   ]
  },
  {
   "cell_type": "code",
   "execution_count": 7,
   "metadata": {},
   "outputs": [],
   "source": [
    "# create column with cls representation of document\n",
    "train_10['BERT_cls'] = train_10['Input'].apply(getBertCls)\n",
    "train_20['BERT_cls'] = train_20['Input'].apply(getBertCls)\n",
    "train_40['BERT_cls'] = train_40['Input'].apply(getBertCls)\n",
    "test['BERT_cls'] = test['Input'].apply(getBertCls)"
   ]
  },
  {
   "cell_type": "code",
   "execution_count": 8,
   "metadata": {},
   "outputs": [],
   "source": [
    "def calCosSim(emb1, emb2):\n",
    "  '''\n",
    "  return the cosine similarity of the\n",
    "  2 input numpy array\n",
    "  '''\n",
    "  result = emb1 @ emb2.T\n",
    "  result /= (np.linalg.norm(emb1)*np.linalg.norm(emb2))\n",
    "  return result"
   ]
  },
  {
   "cell_type": "code",
   "execution_count": 9,
   "metadata": {},
   "outputs": [],
   "source": [
    "def GetPosExample_train10(row):\n",
    "    emb = row['BERT_cls']\n",
    "    PosExamples = train_10[train_10['Include_cont'] == 1].copy()\n",
    "    PMID = row['PMID']\n",
    "    PosExamples = PosExamples[PosExamples['PMID'] != PMID].copy()\n",
    "    PosExamples['Sim'] = PosExamples['BERT_cls'].apply(lambda x: calCosSim(emb, x))\n",
    "    sim = PosExamples['Sim']\n",
    "    \n",
    "    return PosExamples.iloc[np.argmax(sim)]['Input']    "
   ]
  },
  {
   "cell_type": "code",
   "execution_count": 10,
   "metadata": {},
   "outputs": [],
   "source": [
    "def GetPosExample_train20(row):\n",
    "    emb = row['BERT_cls']\n",
    "    PosExamples = train_20[train_20['Include_cont'] == 1].copy()\n",
    "    PMID = row['PMID']\n",
    "    PosExamples = PosExamples[PosExamples['PMID'] != PMID].copy()\n",
    "    PosExamples['Sim'] = PosExamples['BERT_cls'].apply(lambda x: calCosSim(emb, x))\n",
    "    sim = PosExamples['Sim']\n",
    "    \n",
    "    return PosExamples.iloc[np.argmax(sim)]['Input']    "
   ]
  },
  {
   "cell_type": "code",
   "execution_count": 11,
   "metadata": {},
   "outputs": [],
   "source": [
    "def GetPosExample_train40(row):\n",
    "    emb = row['BERT_cls']\n",
    "    PosExamples = train_40[train_40['Include_cont'] == 1].copy()\n",
    "    PMID = row['PMID']\n",
    "    PosExamples = PosExamples[PosExamples['PMID'] != PMID].copy()\n",
    "    PosExamples['Sim'] = PosExamples['BERT_cls'].apply(lambda x: calCosSim(emb, x))\n",
    "    sim = PosExamples['Sim']\n",
    "    \n",
    "    return PosExamples.iloc[np.argmax(sim)]['Input']    "
   ]
  },
  {
   "cell_type": "code",
   "execution_count": 12,
   "metadata": {},
   "outputs": [],
   "source": [
    "test['PosExample_10'] = test.apply(GetPosExample_train10, axis=1)\n",
    "test['PosExample_20'] = test.apply(GetPosExample_train20, axis=1)\n",
    "test['PosExample_40'] = test.apply(GetPosExample_train40, axis=1)"
   ]
  },
  {
   "cell_type": "code",
   "execution_count": 13,
   "metadata": {},
   "outputs": [],
   "source": [
    "# get key\n",
    "load_dotenv()\n",
    "client = OpenAI(\n",
    "    api_key = os.environ.get(\"OPENAI_API_KEY\"),\n",
    ")"
   ]
  },
  {
   "cell_type": "code",
   "execution_count": 14,
   "metadata": {},
   "outputs": [],
   "source": [
    "prompt = \"\"\"\n",
    "\n",
    "### Instruction\n",
    "\n",
    "You will take the role of a scientific research reviewer to evaluate titles and abstracts for further assessment. \\\n",
    "Please generate a relevance score for the title and abstract in triple quotes based on the following inclusion criteria. \\\n",
    "When generating the relevance score, please think step by step to determine if the title and abstract satisfy the inclusion criteria. \\\n",
    "Try to include all potentially relevant papers for further screening. \\\n",
    "The output should be binary, 1 being to include and 0 being to exclude.\n",
    "\n",
    "\n",
    "### Inclusion Criteria\n",
    "\n",
    "1. Studies including any of the Index Tests for the diagnosis of the Target Condition.\n",
    "\n",
    "2. Index Tests (at least one of the following):\n",
    "   - Mallampati test\n",
    "   - Modified Mallampati test\n",
    "   - Wilson risk score\n",
    "   - Thyromental distance\n",
    "   - Sternomental distance\n",
    "   - Mouth opening test\n",
    "   - Upper lip bite test\n",
    "\n",
    "3. Target Condition: difficult airway, with at least one of the following reference standards:\n",
    "   - Difficult face mask ventilation\n",
    "   - Difficult laryngoscopy\n",
    "   - Difficult tracheal intubation\n",
    "   - Failed intubation\n",
    "\n",
    "4. Participants:\n",
    "   - Adult patients without abnormalities associated with difficult airway\n",
    "   - Having laryngoscopy and the trachea intubated\n",
    "\n",
    "\n",
    "### Evaluation Process\n",
    "\n",
    "Please think through the following process\n",
    "\n",
    "2. **Step 1: Index Test** – Does the abstract mention one or more of the index tests listed above?\n",
    "3. **Step 2: Target Condition** – Does the abstract involve a target condition of difficult airway, as defined by the criteria?\n",
    "4. **Step 3: Participants** – Are the participants adult patients without abnormalities associated with difficult airway? \\\n",
    "Did they have laryngoscopy and the trachea intubated?\n",
    "\n",
    "After evaluating the abstract based on these steps, determine if it should be included in the review.\n",
    "\n",
    "### Output\n",
    "\n",
    "Expected output format:\n",
    "\n",
    "{{\n",
    "    \"Relevance Score\": int 1/0,\n",
    "    \"Reason\": \"Brief explanation of the Relevance Score based on inclusion criteria\"\n",
    "}}\n",
    "\n",
    "\"\"\"\n"
   ]
  },
  {
   "cell_type": "code",
   "execution_count": 15,
   "metadata": {},
   "outputs": [],
   "source": [
    "def getRelScore_10(row):\n",
    "    txt = row['Input']\n",
    "    example = row['PosExample_10']\n",
    "    prompt_used = prompt + f'\\n\\n### Example \\n\\n Below is an example delimited by triple quotes that should definitely be included: \\n \"\"\"{example}\"\"\"'\n",
    "    try:\n",
    "        completion = client.chat.completions.create(\n",
    "        model=\"gpt-4o\",\n",
    "        messages=[\n",
    "        {\"role\": \"system\", \"content\": prompt_used},\n",
    "        {\"role\": \"user\", \"content\": txt}\n",
    "        ]\n",
    "        )\n",
    "        return completion.choices[0].message.content\n",
    "    except:\n",
    "        return None\n"
   ]
  },
  {
   "cell_type": "code",
   "execution_count": 16,
   "metadata": {},
   "outputs": [],
   "source": [
    "def getRelScore_20(row):\n",
    "    txt = row['Input']\n",
    "    example = row['PosExample_20']\n",
    "    prompt_used = prompt + f'\\n\\n### Example \\n\\n Below is an example delimited by triple quotes that should definitely be included: \\n \"\"\"{example}\"\"\"'\n",
    "    try:\n",
    "        completion = client.chat.completions.create(\n",
    "        model=\"gpt-4o\",\n",
    "        messages=[\n",
    "        {\"role\": \"system\", \"content\": prompt_used},\n",
    "        {\"role\": \"user\", \"content\": txt}\n",
    "        ]\n",
    "        )\n",
    "        return completion.choices[0].message.content\n",
    "    except:\n",
    "        return None"
   ]
  },
  {
   "cell_type": "code",
   "execution_count": 17,
   "metadata": {},
   "outputs": [],
   "source": [
    "def getRelScore_40(row):\n",
    "    txt = row['Input']\n",
    "    example = row['PosExample_40']\n",
    "    prompt_used = prompt + f'\\n\\n### Example \\n\\n Below is an example delimited by triple quotes that should definitely be included: \\n \"\"\"{example}\"\"\"'\n",
    "    try:\n",
    "        completion = client.chat.completions.create(\n",
    "        model=\"gpt-4o\",\n",
    "        messages=[\n",
    "        {\"role\": \"system\", \"content\": prompt_used},\n",
    "        {\"role\": \"user\", \"content\": txt}\n",
    "        ]\n",
    "        )\n",
    "        return completion.choices[0].message.content\n",
    "    except:\n",
    "        return None"
   ]
  },
  {
   "cell_type": "code",
   "execution_count": 18,
   "metadata": {},
   "outputs": [],
   "source": [
    "test['Results_10'] = test.apply(getRelScore_10, axis=1)\n",
    "test['Results_20'] = test.apply(getRelScore_20, axis=1)\n",
    "test['Results_40'] = test.apply(getRelScore_40, axis=1)"
   ]
  },
  {
   "cell_type": "code",
   "execution_count": 19,
   "metadata": {},
   "outputs": [],
   "source": [
    "\n",
    "def parseScore(res):\n",
    "    try:\n",
    "        js = res[1:-1]\n",
    "        \n",
    "        results = json.loads(js)\n",
    "        \n",
    "        return results[\"Relevance Score\"]\n",
    "    except:\n",
    "        try:\n",
    "            js = res[8:-4]\n",
    "        \n",
    "            results = json.loads(js)\n",
    "        \n",
    "            return results[\"Relevance Score\"]\n",
    "        except:\n",
    "            return \"Error\"\n",
    "\n",
    "\n",
    "def parseReason(res):\n",
    "    try:\n",
    "        js = res[1:-1]\n",
    "        \n",
    "        results = json.loads(js)\n",
    "        \n",
    "        return results[\"Reason\"]\n",
    "    except:\n",
    "        try:\n",
    "            js = res[8:-4]\n",
    "        \n",
    "            results = json.loads(js)\n",
    "        \n",
    "            return results[\"Reason\"]\n",
    "        except:\n",
    "            return \"Error\"\n"
   ]
  },
  {
   "cell_type": "code",
   "execution_count": 20,
   "metadata": {},
   "outputs": [
    {
     "ename": "OSError",
     "evalue": "Cannot save file into a non-existent directory: '/workspaces/LLMAbstractScreening/Dataset/01042025'",
     "output_type": "error",
     "traceback": [
      "\u001b[0;31m---------------------------------------------------------------------------\u001b[0m",
      "\u001b[0;31mOSError\u001b[0m                                   Traceback (most recent call last)",
      "Cell \u001b[0;32mIn[20], line 10\u001b[0m\n\u001b[1;32m      7\u001b[0m test[\u001b[38;5;124m'\u001b[39m\u001b[38;5;124mRelevanceScore_40\u001b[39m\u001b[38;5;124m'\u001b[39m] \u001b[38;5;241m=\u001b[39m test[\u001b[38;5;124m'\u001b[39m\u001b[38;5;124mResults_40\u001b[39m\u001b[38;5;124m'\u001b[39m]\u001b[38;5;241m.\u001b[39mapply(parseScore)    \n\u001b[1;32m      8\u001b[0m test[\u001b[38;5;124m'\u001b[39m\u001b[38;5;124mReason_40\u001b[39m\u001b[38;5;124m'\u001b[39m] \u001b[38;5;241m=\u001b[39m test[\u001b[38;5;124m'\u001b[39m\u001b[38;5;124mResults_40\u001b[39m\u001b[38;5;124m'\u001b[39m]\u001b[38;5;241m.\u001b[39mapply(parseReason)\n\u001b[0;32m---> 10\u001b[0m \u001b[43mtest\u001b[49m\u001b[38;5;241;43m.\u001b[39;49m\u001b[43mto_csv\u001b[49m\u001b[43m(\u001b[49m\u001b[38;5;124;43m'\u001b[39;49m\u001b[38;5;124;43m/workspaces/LLMAbstractScreening/Dataset/01042025/Ensemble_test_01052025_binary.csv\u001b[39;49m\u001b[38;5;124;43m'\u001b[39;49m\u001b[43m,\u001b[49m\u001b[43m \u001b[49m\u001b[43mindex\u001b[49m\u001b[38;5;241;43m=\u001b[39;49m\u001b[38;5;28;43;01mFalse\u001b[39;49;00m\u001b[43m)\u001b[49m\n",
      "File \u001b[0;32m/workspaces/LLMAbstractScreen/.venv/lib/python3.12/site-packages/pandas/util/_decorators.py:333\u001b[0m, in \u001b[0;36mdeprecate_nonkeyword_arguments.<locals>.decorate.<locals>.wrapper\u001b[0;34m(*args, **kwargs)\u001b[0m\n\u001b[1;32m    327\u001b[0m \u001b[38;5;28;01mif\u001b[39;00m \u001b[38;5;28mlen\u001b[39m(args) \u001b[38;5;241m>\u001b[39m num_allow_args:\n\u001b[1;32m    328\u001b[0m     warnings\u001b[38;5;241m.\u001b[39mwarn(\n\u001b[1;32m    329\u001b[0m         msg\u001b[38;5;241m.\u001b[39mformat(arguments\u001b[38;5;241m=\u001b[39m_format_argument_list(allow_args)),\n\u001b[1;32m    330\u001b[0m         \u001b[38;5;167;01mFutureWarning\u001b[39;00m,\n\u001b[1;32m    331\u001b[0m         stacklevel\u001b[38;5;241m=\u001b[39mfind_stack_level(),\n\u001b[1;32m    332\u001b[0m     )\n\u001b[0;32m--> 333\u001b[0m \u001b[38;5;28;01mreturn\u001b[39;00m \u001b[43mfunc\u001b[49m\u001b[43m(\u001b[49m\u001b[38;5;241;43m*\u001b[39;49m\u001b[43margs\u001b[49m\u001b[43m,\u001b[49m\u001b[43m \u001b[49m\u001b[38;5;241;43m*\u001b[39;49m\u001b[38;5;241;43m*\u001b[39;49m\u001b[43mkwargs\u001b[49m\u001b[43m)\u001b[49m\n",
      "File \u001b[0;32m/workspaces/LLMAbstractScreen/.venv/lib/python3.12/site-packages/pandas/core/generic.py:3967\u001b[0m, in \u001b[0;36mNDFrame.to_csv\u001b[0;34m(self, path_or_buf, sep, na_rep, float_format, columns, header, index, index_label, mode, encoding, compression, quoting, quotechar, lineterminator, chunksize, date_format, doublequote, escapechar, decimal, errors, storage_options)\u001b[0m\n\u001b[1;32m   3956\u001b[0m df \u001b[38;5;241m=\u001b[39m \u001b[38;5;28mself\u001b[39m \u001b[38;5;28;01mif\u001b[39;00m \u001b[38;5;28misinstance\u001b[39m(\u001b[38;5;28mself\u001b[39m, ABCDataFrame) \u001b[38;5;28;01melse\u001b[39;00m \u001b[38;5;28mself\u001b[39m\u001b[38;5;241m.\u001b[39mto_frame()\n\u001b[1;32m   3958\u001b[0m formatter \u001b[38;5;241m=\u001b[39m DataFrameFormatter(\n\u001b[1;32m   3959\u001b[0m     frame\u001b[38;5;241m=\u001b[39mdf,\n\u001b[1;32m   3960\u001b[0m     header\u001b[38;5;241m=\u001b[39mheader,\n\u001b[0;32m   (...)\u001b[0m\n\u001b[1;32m   3964\u001b[0m     decimal\u001b[38;5;241m=\u001b[39mdecimal,\n\u001b[1;32m   3965\u001b[0m )\n\u001b[0;32m-> 3967\u001b[0m \u001b[38;5;28;01mreturn\u001b[39;00m \u001b[43mDataFrameRenderer\u001b[49m\u001b[43m(\u001b[49m\u001b[43mformatter\u001b[49m\u001b[43m)\u001b[49m\u001b[38;5;241;43m.\u001b[39;49m\u001b[43mto_csv\u001b[49m\u001b[43m(\u001b[49m\n\u001b[1;32m   3968\u001b[0m \u001b[43m    \u001b[49m\u001b[43mpath_or_buf\u001b[49m\u001b[43m,\u001b[49m\n\u001b[1;32m   3969\u001b[0m \u001b[43m    \u001b[49m\u001b[43mlineterminator\u001b[49m\u001b[38;5;241;43m=\u001b[39;49m\u001b[43mlineterminator\u001b[49m\u001b[43m,\u001b[49m\n\u001b[1;32m   3970\u001b[0m \u001b[43m    \u001b[49m\u001b[43msep\u001b[49m\u001b[38;5;241;43m=\u001b[39;49m\u001b[43msep\u001b[49m\u001b[43m,\u001b[49m\n\u001b[1;32m   3971\u001b[0m \u001b[43m    \u001b[49m\u001b[43mencoding\u001b[49m\u001b[38;5;241;43m=\u001b[39;49m\u001b[43mencoding\u001b[49m\u001b[43m,\u001b[49m\n\u001b[1;32m   3972\u001b[0m \u001b[43m    \u001b[49m\u001b[43merrors\u001b[49m\u001b[38;5;241;43m=\u001b[39;49m\u001b[43merrors\u001b[49m\u001b[43m,\u001b[49m\n\u001b[1;32m   3973\u001b[0m \u001b[43m    \u001b[49m\u001b[43mcompression\u001b[49m\u001b[38;5;241;43m=\u001b[39;49m\u001b[43mcompression\u001b[49m\u001b[43m,\u001b[49m\n\u001b[1;32m   3974\u001b[0m \u001b[43m    \u001b[49m\u001b[43mquoting\u001b[49m\u001b[38;5;241;43m=\u001b[39;49m\u001b[43mquoting\u001b[49m\u001b[43m,\u001b[49m\n\u001b[1;32m   3975\u001b[0m \u001b[43m    \u001b[49m\u001b[43mcolumns\u001b[49m\u001b[38;5;241;43m=\u001b[39;49m\u001b[43mcolumns\u001b[49m\u001b[43m,\u001b[49m\n\u001b[1;32m   3976\u001b[0m \u001b[43m    \u001b[49m\u001b[43mindex_label\u001b[49m\u001b[38;5;241;43m=\u001b[39;49m\u001b[43mindex_label\u001b[49m\u001b[43m,\u001b[49m\n\u001b[1;32m   3977\u001b[0m \u001b[43m    \u001b[49m\u001b[43mmode\u001b[49m\u001b[38;5;241;43m=\u001b[39;49m\u001b[43mmode\u001b[49m\u001b[43m,\u001b[49m\n\u001b[1;32m   3978\u001b[0m \u001b[43m    \u001b[49m\u001b[43mchunksize\u001b[49m\u001b[38;5;241;43m=\u001b[39;49m\u001b[43mchunksize\u001b[49m\u001b[43m,\u001b[49m\n\u001b[1;32m   3979\u001b[0m \u001b[43m    \u001b[49m\u001b[43mquotechar\u001b[49m\u001b[38;5;241;43m=\u001b[39;49m\u001b[43mquotechar\u001b[49m\u001b[43m,\u001b[49m\n\u001b[1;32m   3980\u001b[0m \u001b[43m    \u001b[49m\u001b[43mdate_format\u001b[49m\u001b[38;5;241;43m=\u001b[39;49m\u001b[43mdate_format\u001b[49m\u001b[43m,\u001b[49m\n\u001b[1;32m   3981\u001b[0m \u001b[43m    \u001b[49m\u001b[43mdoublequote\u001b[49m\u001b[38;5;241;43m=\u001b[39;49m\u001b[43mdoublequote\u001b[49m\u001b[43m,\u001b[49m\n\u001b[1;32m   3982\u001b[0m \u001b[43m    \u001b[49m\u001b[43mescapechar\u001b[49m\u001b[38;5;241;43m=\u001b[39;49m\u001b[43mescapechar\u001b[49m\u001b[43m,\u001b[49m\n\u001b[1;32m   3983\u001b[0m \u001b[43m    \u001b[49m\u001b[43mstorage_options\u001b[49m\u001b[38;5;241;43m=\u001b[39;49m\u001b[43mstorage_options\u001b[49m\u001b[43m,\u001b[49m\n\u001b[1;32m   3984\u001b[0m \u001b[43m\u001b[49m\u001b[43m)\u001b[49m\n",
      "File \u001b[0;32m/workspaces/LLMAbstractScreen/.venv/lib/python3.12/site-packages/pandas/io/formats/format.py:1014\u001b[0m, in \u001b[0;36mDataFrameRenderer.to_csv\u001b[0;34m(self, path_or_buf, encoding, sep, columns, index_label, mode, compression, quoting, quotechar, lineterminator, chunksize, date_format, doublequote, escapechar, errors, storage_options)\u001b[0m\n\u001b[1;32m    993\u001b[0m     created_buffer \u001b[38;5;241m=\u001b[39m \u001b[38;5;28;01mFalse\u001b[39;00m\n\u001b[1;32m    995\u001b[0m csv_formatter \u001b[38;5;241m=\u001b[39m CSVFormatter(\n\u001b[1;32m    996\u001b[0m     path_or_buf\u001b[38;5;241m=\u001b[39mpath_or_buf,\n\u001b[1;32m    997\u001b[0m     lineterminator\u001b[38;5;241m=\u001b[39mlineterminator,\n\u001b[0;32m   (...)\u001b[0m\n\u001b[1;32m   1012\u001b[0m     formatter\u001b[38;5;241m=\u001b[39m\u001b[38;5;28mself\u001b[39m\u001b[38;5;241m.\u001b[39mfmt,\n\u001b[1;32m   1013\u001b[0m )\n\u001b[0;32m-> 1014\u001b[0m \u001b[43mcsv_formatter\u001b[49m\u001b[38;5;241;43m.\u001b[39;49m\u001b[43msave\u001b[49m\u001b[43m(\u001b[49m\u001b[43m)\u001b[49m\n\u001b[1;32m   1016\u001b[0m \u001b[38;5;28;01mif\u001b[39;00m created_buffer:\n\u001b[1;32m   1017\u001b[0m     \u001b[38;5;28;01massert\u001b[39;00m \u001b[38;5;28misinstance\u001b[39m(path_or_buf, StringIO)\n",
      "File \u001b[0;32m/workspaces/LLMAbstractScreen/.venv/lib/python3.12/site-packages/pandas/io/formats/csvs.py:251\u001b[0m, in \u001b[0;36mCSVFormatter.save\u001b[0;34m(self)\u001b[0m\n\u001b[1;32m    247\u001b[0m \u001b[38;5;250m\u001b[39m\u001b[38;5;124;03m\"\"\"\u001b[39;00m\n\u001b[1;32m    248\u001b[0m \u001b[38;5;124;03mCreate the writer & save.\u001b[39;00m\n\u001b[1;32m    249\u001b[0m \u001b[38;5;124;03m\"\"\"\u001b[39;00m\n\u001b[1;32m    250\u001b[0m \u001b[38;5;66;03m# apply compression and byte/text conversion\u001b[39;00m\n\u001b[0;32m--> 251\u001b[0m \u001b[38;5;28;01mwith\u001b[39;00m \u001b[43mget_handle\u001b[49m\u001b[43m(\u001b[49m\n\u001b[1;32m    252\u001b[0m \u001b[43m    \u001b[49m\u001b[38;5;28;43mself\u001b[39;49m\u001b[38;5;241;43m.\u001b[39;49m\u001b[43mfilepath_or_buffer\u001b[49m\u001b[43m,\u001b[49m\n\u001b[1;32m    253\u001b[0m \u001b[43m    \u001b[49m\u001b[38;5;28;43mself\u001b[39;49m\u001b[38;5;241;43m.\u001b[39;49m\u001b[43mmode\u001b[49m\u001b[43m,\u001b[49m\n\u001b[1;32m    254\u001b[0m \u001b[43m    \u001b[49m\u001b[43mencoding\u001b[49m\u001b[38;5;241;43m=\u001b[39;49m\u001b[38;5;28;43mself\u001b[39;49m\u001b[38;5;241;43m.\u001b[39;49m\u001b[43mencoding\u001b[49m\u001b[43m,\u001b[49m\n\u001b[1;32m    255\u001b[0m \u001b[43m    \u001b[49m\u001b[43merrors\u001b[49m\u001b[38;5;241;43m=\u001b[39;49m\u001b[38;5;28;43mself\u001b[39;49m\u001b[38;5;241;43m.\u001b[39;49m\u001b[43merrors\u001b[49m\u001b[43m,\u001b[49m\n\u001b[1;32m    256\u001b[0m \u001b[43m    \u001b[49m\u001b[43mcompression\u001b[49m\u001b[38;5;241;43m=\u001b[39;49m\u001b[38;5;28;43mself\u001b[39;49m\u001b[38;5;241;43m.\u001b[39;49m\u001b[43mcompression\u001b[49m\u001b[43m,\u001b[49m\n\u001b[1;32m    257\u001b[0m \u001b[43m    \u001b[49m\u001b[43mstorage_options\u001b[49m\u001b[38;5;241;43m=\u001b[39;49m\u001b[38;5;28;43mself\u001b[39;49m\u001b[38;5;241;43m.\u001b[39;49m\u001b[43mstorage_options\u001b[49m\u001b[43m,\u001b[49m\n\u001b[1;32m    258\u001b[0m \u001b[43m\u001b[49m\u001b[43m)\u001b[49m \u001b[38;5;28;01mas\u001b[39;00m handles:\n\u001b[1;32m    259\u001b[0m     \u001b[38;5;66;03m# Note: self.encoding is irrelevant here\u001b[39;00m\n\u001b[1;32m    260\u001b[0m     \u001b[38;5;28mself\u001b[39m\u001b[38;5;241m.\u001b[39mwriter \u001b[38;5;241m=\u001b[39m csvlib\u001b[38;5;241m.\u001b[39mwriter(\n\u001b[1;32m    261\u001b[0m         handles\u001b[38;5;241m.\u001b[39mhandle,\n\u001b[1;32m    262\u001b[0m         lineterminator\u001b[38;5;241m=\u001b[39m\u001b[38;5;28mself\u001b[39m\u001b[38;5;241m.\u001b[39mlineterminator,\n\u001b[0;32m   (...)\u001b[0m\n\u001b[1;32m    267\u001b[0m         quotechar\u001b[38;5;241m=\u001b[39m\u001b[38;5;28mself\u001b[39m\u001b[38;5;241m.\u001b[39mquotechar,\n\u001b[1;32m    268\u001b[0m     )\n\u001b[1;32m    270\u001b[0m     \u001b[38;5;28mself\u001b[39m\u001b[38;5;241m.\u001b[39m_save()\n",
      "File \u001b[0;32m/workspaces/LLMAbstractScreen/.venv/lib/python3.12/site-packages/pandas/io/common.py:749\u001b[0m, in \u001b[0;36mget_handle\u001b[0;34m(path_or_buf, mode, encoding, compression, memory_map, is_text, errors, storage_options)\u001b[0m\n\u001b[1;32m    747\u001b[0m \u001b[38;5;66;03m# Only for write methods\u001b[39;00m\n\u001b[1;32m    748\u001b[0m \u001b[38;5;28;01mif\u001b[39;00m \u001b[38;5;124m\"\u001b[39m\u001b[38;5;124mr\u001b[39m\u001b[38;5;124m\"\u001b[39m \u001b[38;5;129;01mnot\u001b[39;00m \u001b[38;5;129;01min\u001b[39;00m mode \u001b[38;5;129;01mand\u001b[39;00m is_path:\n\u001b[0;32m--> 749\u001b[0m     \u001b[43mcheck_parent_directory\u001b[49m\u001b[43m(\u001b[49m\u001b[38;5;28;43mstr\u001b[39;49m\u001b[43m(\u001b[49m\u001b[43mhandle\u001b[49m\u001b[43m)\u001b[49m\u001b[43m)\u001b[49m\n\u001b[1;32m    751\u001b[0m \u001b[38;5;28;01mif\u001b[39;00m compression:\n\u001b[1;32m    752\u001b[0m     \u001b[38;5;28;01mif\u001b[39;00m compression \u001b[38;5;241m!=\u001b[39m \u001b[38;5;124m\"\u001b[39m\u001b[38;5;124mzstd\u001b[39m\u001b[38;5;124m\"\u001b[39m:\n\u001b[1;32m    753\u001b[0m         \u001b[38;5;66;03m# compression libraries do not like an explicit text-mode\u001b[39;00m\n",
      "File \u001b[0;32m/workspaces/LLMAbstractScreen/.venv/lib/python3.12/site-packages/pandas/io/common.py:616\u001b[0m, in \u001b[0;36mcheck_parent_directory\u001b[0;34m(path)\u001b[0m\n\u001b[1;32m    614\u001b[0m parent \u001b[38;5;241m=\u001b[39m Path(path)\u001b[38;5;241m.\u001b[39mparent\n\u001b[1;32m    615\u001b[0m \u001b[38;5;28;01mif\u001b[39;00m \u001b[38;5;129;01mnot\u001b[39;00m parent\u001b[38;5;241m.\u001b[39mis_dir():\n\u001b[0;32m--> 616\u001b[0m     \u001b[38;5;28;01mraise\u001b[39;00m \u001b[38;5;167;01mOSError\u001b[39;00m(\u001b[38;5;124mrf\u001b[39m\u001b[38;5;124m\"\u001b[39m\u001b[38;5;124mCannot save file into a non-existent directory: \u001b[39m\u001b[38;5;124m'\u001b[39m\u001b[38;5;132;01m{\u001b[39;00mparent\u001b[38;5;132;01m}\u001b[39;00m\u001b[38;5;124m'\u001b[39m\u001b[38;5;124m\"\u001b[39m)\n",
      "\u001b[0;31mOSError\u001b[0m: Cannot save file into a non-existent directory: '/workspaces/LLMAbstractScreening/Dataset/01042025'"
     ]
    }
   ],
   "source": [
    "\n",
    "test['RelevanceScore_10'] = test['Results_10'].apply(parseScore)    \n",
    "test['Reason_10'] = test['Results_10'].apply(parseReason)\n",
    "\n",
    "test['RelevanceScore_20'] = test['Results_20'].apply(parseScore)    \n",
    "test['Reason_20'] = test['Results_20'].apply(parseReason)\n",
    "\n",
    "test['RelevanceScore_40'] = test['Results_40'].apply(parseScore)    \n",
    "test['Reason_40'] = test['Results_40'].apply(parseReason)\n"
   ]
  },
  {
   "cell_type": "code",
   "execution_count": 21,
   "metadata": {},
   "outputs": [],
   "source": [
    "test.to_csv('/workspaces/LLMAbstractScreen/Dataset/01042025/Ensemble_test_01052025_binary.csv', index=False)"
   ]
  }
 ],
 "metadata": {
  "kernelspec": {
   "display_name": ".venv",
   "language": "python",
   "name": "python3"
  },
  "language_info": {
   "codemirror_mode": {
    "name": "ipython",
    "version": 3
   },
   "file_extension": ".py",
   "mimetype": "text/x-python",
   "name": "python",
   "nbconvert_exporter": "python",
   "pygments_lexer": "ipython3",
   "version": "3.12.1"
  }
 },
 "nbformat": 4,
 "nbformat_minor": 2
}
