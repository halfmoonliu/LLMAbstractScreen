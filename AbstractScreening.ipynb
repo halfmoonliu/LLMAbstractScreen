{
 "cells": [
  {
   "cell_type": "markdown",
   "metadata": {},
   "source": [
    "# Leveraging LLMs for Abstract Screening"
   ]
  },
  {
   "cell_type": "code",
   "execution_count": 33,
   "metadata": {},
   "outputs": [],
   "source": [
    "import numpy as np\n",
    "import pandas as pd\n",
    "import torch\n",
    "from transformers import AutoTokenizer, BertModel\n",
    "\n",
    "from openai import OpenAI\n",
    "import os\n",
    "from dotenv import load_dotenv\n",
    "\n"
   ]
  },
  {
   "cell_type": "code",
   "execution_count": null,
   "metadata": {},
   "outputs": [],
   "source": [
    "Dataset = pd.read_csv('./Dataset/Abstracts_CD008874_20241012_sample.csv')\n",
    "Examples = pd.read_csv('./Dataset/Abstracts_CD008874_20241012_examples.csv')"
   ]
  },
  {
   "cell_type": "code",
   "execution_count": 5,
   "metadata": {},
   "outputs": [],
   "source": [
    "Dataset['Title/Abstract'] = Dataset['title'] + ' ' + Dataset['abstract']\n",
    "Examples['Title/Abstract'] = Examples['title'] + ' ' + Examples['abstract']"
   ]
  },
  {
   "cell_type": "code",
   "execution_count": 6,
   "metadata": {},
   "outputs": [],
   "source": [
    "# load BERT tokenizer (uncased)\n",
    "transformer_name = \"bert-base-uncased\"\n",
    "tokenizer = AutoTokenizer.from_pretrained(transformer_name)\n",
    "\n",
    "# load pretrained BERT model\n",
    "model = BertModel.from_pretrained(transformer_name)\n",
    "\n",
    "# assign device (cuda if possible)\n",
    "device = torch.device(\"cuda\" if torch.cuda.is_available() else \"cpu\")\n",
    "\n",
    "# load to device\n",
    "model = model.to(device)"
   ]
  },
  {
   "cell_type": "code",
   "execution_count": 7,
   "metadata": {},
   "outputs": [],
   "source": [
    "def getBertCls(text):\n",
    "  '''\n",
    "  this function takes the following input:\n",
    "  text to be represented by the BERT CLS token\n",
    "  and gives the following output:\n",
    "  a numpy array representing the text\n",
    "  '''\n",
    "  tok_text = tokenizer(text[:512],\n",
    "                       return_tensors='pt').to(device)\n",
    "  mod_output = model(**tok_text,\n",
    "                     output_hidden_states=True)\n",
    "  last_hidden_states = mod_output.hidden_states[-1]\n",
    "  return last_hidden_states[:,0,:].cpu().detach().numpy()[0]"
   ]
  },
  {
   "cell_type": "code",
   "execution_count": null,
   "metadata": {},
   "outputs": [],
   "source": [
    "# create column with cls representation of document\n",
    "Dataset['BERT_cls'] = Dataset['Title/Abstract'].apply(getBertCls)\n",
    "Examples['BERT_cls'] = Examples['Title/Abstract'].apply(getBertCls)\n",
    "\n",
    "NegExamples = Examples[Examples['Include_cont'] == 0].copy()"
   ]
  },
  {
   "cell_type": "code",
   "execution_count": 10,
   "metadata": {},
   "outputs": [],
   "source": [
    "def calCosSim(emb1, emb2):\n",
    "  '''\n",
    "  return the cosine similarity of the\n",
    "  2 input numpy array\n",
    "  '''\n",
    "  result = emb1 @ emb2.T\n",
    "  result /= (np.linalg.norm(emb1)*np.linalg.norm(emb2))\n",
    "  return result"
   ]
  },
  {
   "cell_type": "code",
   "execution_count": 21,
   "metadata": {},
   "outputs": [],
   "source": [
    "def GetPosExample(row):\n",
    "    emb = row['BERT_cls']\n",
    "    PosExamples = Examples[Examples['Include_cont'] == 1].copy()\n",
    "    PosExamples['Sim'] = PosExamples['BERT_cls'].apply(lambda x: calCosSim(emb, x))\n",
    "    sim = PosExamples['Sim']\n",
    "    return PosExamples.iloc[np.argmax(sim)]['Title/Abstract']    "
   ]
  },
  {
   "cell_type": "code",
   "execution_count": 22,
   "metadata": {},
   "outputs": [],
   "source": [
    "Dataset['PosExample'] = Dataset.apply(GetPosExample, axis=1)\n"
   ]
  },
  {
   "cell_type": "code",
   "execution_count": 30,
   "metadata": {},
   "outputs": [],
   "source": [
    "def GetNegExample(row):\n",
    "    emb = row['BERT_cls']\n",
    "    NegExamples = Examples[Examples['Include_cont'] == 0].copy()\n",
    "    NegExamples['Sim'] = NegExamples['BERT_cls'].apply(lambda x: calCosSim(emb, x))\n",
    "    sim = NegExamples['Sim']\n",
    "    return NegExamples.iloc[np.argmax(sim)]['Title/Abstract']    "
   ]
  },
  {
   "cell_type": "code",
   "execution_count": 31,
   "metadata": {},
   "outputs": [],
   "source": [
    "Dataset['NegExample'] = Dataset.apply(GetPosExample, axis=1)"
   ]
  },
  {
   "cell_type": "code",
   "execution_count": 35,
   "metadata": {},
   "outputs": [],
   "source": [
    "# get key\n",
    "load_dotenv()\n",
    "client = OpenAI(\n",
    "    api_key = os.environ.get(\"OPENAI_API_KEY\"),\n",
    ")"
   ]
  },
  {
   "cell_type": "code",
   "execution_count": null,
   "metadata": {},
   "outputs": [],
   "source": [
    "\n",
    "prompt = \"\"\"\n",
    "We are trying to conduct a systematic review study titled \\\n",
    "\"Airway physical examination tests for detection of difficult airway management in apparently normal adult patients\". \\\n",
    "You will take the role of a reviewer to check the abstracts and titles if they should be selected \\\n",
    "for further assessment and full-text screening. \\\n",
    "Please give a score between 1 - 100 with no explanation for the following abstract and abstract on \\\n",
    "    how likely this article should be included:, where 70 and above means we should screen the paper and \\\n",
    "        69 and below means we should not screen the paper. \\\n",
    "                                                                                                                                                                                                                                                                                                                                                                                                                                                                                                                                                                                                                                                                                                                                                                                                                                                                                                                                                                                                                                                                                                                                                                                                     \n",
    "The paper selection criteria are the followings: \\\n",
    "    \n",
    "    Full‐text diagnostic test accuracy studies of any individual index test, or a combination of tests, against a reference standard.\n",
    "    Index tests included the Mallampati test, modified Mallampati test, Wilson risk score, thyromental distance, \\\n",
    "    sternomental distance, mouth opening test, upper lip bite test, or any combination of these. \\\n",
    "    The target condition was difficult airway, with one of the following reference standards: difficult face mask ventilation, \\\n",
    "    difficult laryngoscopy, difficult tracheal intubation, and failed intubation.\n",
    "    Participants were adults without obvious airway abnormalities, who were having laryngoscopy performed with \\\n",
    "    a standard laryngoscope and the trachea intubated with a standard tracheal tube.\n",
    "\"\"\"\n"
   ]
  },
  {
   "cell_type": "code",
   "execution_count": 36,
   "metadata": {},
   "outputs": [],
   "source": [
    "def getRelScore(row):\n",
    "    txt = row['Title/Abstract']\n",
    "    example = row['PosExample']\n",
    "    prompt_used = prompt + f\"\\n\\nBelow is an example that should definitely be included: \\n {example}\"\n",
    "    try:\n",
    "        completion = client.chat.completions.create(\n",
    "        model=\"gpt-4o\",\n",
    "        messages=[\n",
    "        {\"role\": \"system\", \"content\": prompt_used},\n",
    "        {\"role\": \"user\", \"content\": txt}\n",
    "        ]\n",
    "        )\n",
    "        return(int(completion.choices[0].message.content))\n",
    "    except:\n",
    "        return None\n",
    "\n",
    "Dataset['RelevanceScore'] = Dataset.apply(getRelScore, axis=1)\n",
    "\n",
    "Dataset.to_csv('./Dataset/RankedSample_CD008874_dyna1Ex_20241129.csv', index=False)\n"
   ]
  }
 ],
 "metadata": {
  "kernelspec": {
   "display_name": ".venv",
   "language": "python",
   "name": "python3"
  },
  "language_info": {
   "codemirror_mode": {
    "name": "ipython",
    "version": 3
   },
   "file_extension": ".py",
   "mimetype": "text/x-python",
   "name": "python",
   "nbconvert_exporter": "python",
   "pygments_lexer": "ipython3",
   "version": "3.12.1"
  }
 },
 "nbformat": 4,
 "nbformat_minor": 2
}
